{
 "cells": [
  {
   "cell_type": "code",
   "execution_count": 7,
   "metadata": {},
   "outputs": [],
   "source": [
    "import pandas as pd\n",
    "import matplotlib.pyplot as plt"
   ]
  },
  {
   "cell_type": "code",
   "execution_count": 4,
   "metadata": {},
   "outputs": [],
   "source": [
    "bist_daily = pd.read_csv(\"datasets/bist_100_daily.csv\")"
   ]
  },
  {
   "cell_type": "code",
   "execution_count": 5,
   "metadata": {},
   "outputs": [
    {
     "data": {
      "text/html": [
       "<div>\n",
       "<style scoped>\n",
       "    .dataframe tbody tr th:only-of-type {\n",
       "        vertical-align: middle;\n",
       "    }\n",
       "\n",
       "    .dataframe tbody tr th {\n",
       "        vertical-align: top;\n",
       "    }\n",
       "\n",
       "    .dataframe thead th {\n",
       "        text-align: right;\n",
       "    }\n",
       "</style>\n",
       "<table border=\"1\" class=\"dataframe\">\n",
       "  <thead>\n",
       "    <tr style=\"text-align: right;\">\n",
       "      <th></th>\n",
       "      <th>Date</th>\n",
       "      <th>Price</th>\n",
       "      <th>Open</th>\n",
       "      <th>High</th>\n",
       "      <th>Low</th>\n",
       "      <th>Vol.</th>\n",
       "      <th>Change %</th>\n",
       "    </tr>\n",
       "  </thead>\n",
       "  <tbody>\n",
       "    <tr>\n",
       "      <th>0</th>\n",
       "      <td>Dec 11, 2019</td>\n",
       "      <td>1,079.22</td>\n",
       "      <td>1,080.31</td>\n",
       "      <td>1,082.18</td>\n",
       "      <td>1,074.65</td>\n",
       "      <td>1.62B</td>\n",
       "      <td>-0.08%</td>\n",
       "    </tr>\n",
       "    <tr>\n",
       "      <th>1</th>\n",
       "      <td>Dec 10, 2019</td>\n",
       "      <td>1,080.11</td>\n",
       "      <td>1,089.12</td>\n",
       "      <td>1,093.78</td>\n",
       "      <td>1,076.18</td>\n",
       "      <td>2.07B</td>\n",
       "      <td>-0.71%</td>\n",
       "    </tr>\n",
       "    <tr>\n",
       "      <th>2</th>\n",
       "      <td>Dec 09, 2019</td>\n",
       "      <td>1,087.86</td>\n",
       "      <td>1,088.96</td>\n",
       "      <td>1,091.25</td>\n",
       "      <td>1,081.39</td>\n",
       "      <td>2.32B</td>\n",
       "      <td>-0.08%</td>\n",
       "    </tr>\n",
       "    <tr>\n",
       "      <th>3</th>\n",
       "      <td>Dec 06, 2019</td>\n",
       "      <td>1,088.69</td>\n",
       "      <td>1,090.09</td>\n",
       "      <td>1,093.15</td>\n",
       "      <td>1,083.52</td>\n",
       "      <td>2.16B</td>\n",
       "      <td>0.19%</td>\n",
       "    </tr>\n",
       "    <tr>\n",
       "      <th>4</th>\n",
       "      <td>Dec 05, 2019</td>\n",
       "      <td>1,086.59</td>\n",
       "      <td>1,082.60</td>\n",
       "      <td>1,090.32</td>\n",
       "      <td>1,081.51</td>\n",
       "      <td>2.24B</td>\n",
       "      <td>0.89%</td>\n",
       "    </tr>\n",
       "    <tr>\n",
       "      <th>...</th>\n",
       "      <td>...</td>\n",
       "      <td>...</td>\n",
       "      <td>...</td>\n",
       "      <td>...</td>\n",
       "      <td>...</td>\n",
       "      <td>...</td>\n",
       "      <td>...</td>\n",
       "    </tr>\n",
       "    <tr>\n",
       "      <th>4995</th>\n",
       "      <td>Jan 11, 2000</td>\n",
       "      <td>163.47</td>\n",
       "      <td>158.37</td>\n",
       "      <td>163.88</td>\n",
       "      <td>152.93</td>\n",
       "      <td>53.62M</td>\n",
       "      <td>3.22%</td>\n",
       "    </tr>\n",
       "    <tr>\n",
       "      <th>4996</th>\n",
       "      <td>Jan 07, 2000</td>\n",
       "      <td>158.37</td>\n",
       "      <td>162.00</td>\n",
       "      <td>163.06</td>\n",
       "      <td>156.24</td>\n",
       "      <td>25.44M</td>\n",
       "      <td>-2.24%</td>\n",
       "    </tr>\n",
       "    <tr>\n",
       "      <th>4997</th>\n",
       "      <td>Jan 06, 2000</td>\n",
       "      <td>162.00</td>\n",
       "      <td>169.32</td>\n",
       "      <td>174.61</td>\n",
       "      <td>160.87</td>\n",
       "      <td>66.09M</td>\n",
       "      <td>-4.32%</td>\n",
       "    </tr>\n",
       "    <tr>\n",
       "      <th>4998</th>\n",
       "      <td>Jan 05, 2000</td>\n",
       "      <td>169.32</td>\n",
       "      <td>175.12</td>\n",
       "      <td>178.02</td>\n",
       "      <td>162.38</td>\n",
       "      <td>66.72M</td>\n",
       "      <td>-3.31%</td>\n",
       "    </tr>\n",
       "    <tr>\n",
       "      <th>4999</th>\n",
       "      <td>Jan 04, 2000</td>\n",
       "      <td>175.12</td>\n",
       "      <td>152.09</td>\n",
       "      <td>176.39</td>\n",
       "      <td>152.09</td>\n",
       "      <td>54.54M</td>\n",
       "      <td>15.14%</td>\n",
       "    </tr>\n",
       "  </tbody>\n",
       "</table>\n",
       "<p>5000 rows × 7 columns</p>\n",
       "</div>"
      ],
      "text/plain": [
       "              Date     Price      Open      High       Low    Vol. Change %\n",
       "0     Dec 11, 2019  1,079.22  1,080.31  1,082.18  1,074.65   1.62B   -0.08%\n",
       "1     Dec 10, 2019  1,080.11  1,089.12  1,093.78  1,076.18   2.07B   -0.71%\n",
       "2     Dec 09, 2019  1,087.86  1,088.96  1,091.25  1,081.39   2.32B   -0.08%\n",
       "3     Dec 06, 2019  1,088.69  1,090.09  1,093.15  1,083.52   2.16B    0.19%\n",
       "4     Dec 05, 2019  1,086.59  1,082.60  1,090.32  1,081.51   2.24B    0.89%\n",
       "...            ...       ...       ...       ...       ...     ...      ...\n",
       "4995  Jan 11, 2000    163.47    158.37    163.88    152.93  53.62M    3.22%\n",
       "4996  Jan 07, 2000    158.37    162.00    163.06    156.24  25.44M   -2.24%\n",
       "4997  Jan 06, 2000    162.00    169.32    174.61    160.87  66.09M   -4.32%\n",
       "4998  Jan 05, 2000    169.32    175.12    178.02    162.38  66.72M   -3.31%\n",
       "4999  Jan 04, 2000    175.12    152.09    176.39    152.09  54.54M   15.14%\n",
       "\n",
       "[5000 rows x 7 columns]"
      ]
     },
     "execution_count": 5,
     "metadata": {},
     "output_type": "execute_result"
    }
   ],
   "source": [
    "bist_daily"
   ]
  },
  {
   "cell_type": "code",
   "execution_count": 19,
   "metadata": {},
   "outputs": [],
   "source": [
    "bist_daily[\"Price\"] = bist_daily[\"Price\"].str.replace(',', '')\n",
    "bist_daily[\"Price\"] = pd.to_numeric(bist_daily[\"Price\"])"
   ]
  },
  {
   "cell_type": "code",
   "execution_count": 25,
   "metadata": {},
   "outputs": [
    {
     "data": {
      "image/png": "[encoded data removed]",
      "text/plain": [
       "<Figure size 432x288 with 1 Axes>"
      ]
     },
     "metadata": {
      "needs_background": "light"
     },
     "output_type": "display_data"
    }
   ],
   "source": [
    "bist_sub = bist_daily.iloc[:30]\n",
    "plt.plot(bist_sub[\"Date\"], bist_sub[\"Price\"])\n",
    "plt.xticks(rotation = 85)\n",
    "plt.show()"
   ]
  },
  {
   "cell_type": "code",
   "execution_count": null,
   "metadata": {},
   "outputs": [],
   "source": []
  }
 ],
 "metadata": {
  "kernelspec": {
   "display_name": "Python 3",
   "language": "python",
   "name": "python3"
  },
  "language_info": {
   "codemirror_mode": {
    "name": "ipython",
    "version": 3
   },
   "file_extension": ".py",
   "mimetype": "text/x-python",
   "name": "python",
   "nbconvert_exporter": "python",
   "pygments_lexer": "ipython3",
   "version": "3.8.5"
  }
 },
 "nbformat": 4,
 "nbformat_minor": 4
}
